{
  "nbformat": 4,
  "nbformat_minor": 0,
  "metadata": {
    "colab": {
      "name": "Untitled5.ipynb",
      "provenance": [],
      "collapsed_sections": [],
      "authorship_tag": "ABX9TyPg369bmcNSzbZ/NcYQHany",
      "include_colab_link": true
    },
    "kernelspec": {
      "name": "python3",
      "display_name": "Python 3"
    },
    "language_info": {
      "name": "python"
    }
  },
  "cells": [
    {
      "cell_type": "markdown",
      "metadata": {
        "id": "view-in-github",
        "colab_type": "text"
      },
      "source": [
        "<a href=\"https://colab.research.google.com/github/aliozmaral1/Blog/blob/main/BasicTensorFlow.ipynb\" target=\"_parent\"><img src=\"https://colab.research.google.com/assets/colab-badge.svg\" alt=\"Open In Colab\"/></a>"
      ]
    },
    {
      "cell_type": "code",
      "metadata": {
        "id": "vSg8qX0RJXln"
      },
      "source": [
        "from tensorflow import keras\n",
        "import numpy as np\n",
        "from keras.models import Sequential\n",
        "from keras.layers.core import Dense"
      ],
      "execution_count": 40,
      "outputs": []
    },
    {
      "cell_type": "code",
      "metadata": {
        "id": "v_O7MkmrO9kD"
      },
      "source": [
        "celcius_degree    = np.array([-40,-10,0,8, 15,22,38])\n",
        "fehranheit_degree = np.array([-40,14,32,46,59,72,100])"
      ],
      "execution_count": 39,
      "outputs": []
    },
    {
      "cell_type": "code",
      "metadata": {
        "id": "HJ3VwmKYPhbs"
      },
      "source": [
        "def TrainValidateModel():\n",
        "  model = keras.Sequential()\n",
        "  model.add(Dense(1))\n",
        "  model.compile(loss='mean_squared_error', optimizer=keras.optimizers.Adam(0.1))\n",
        "  model.fit(celcius_degree, fehranheit_degree, epochs=500, verbose=False)\n",
        "\n",
        "  return model"
      ],
      "execution_count": 41,
      "outputs": []
    },
    {
      "cell_type": "code",
      "metadata": {
        "id": "CFZVEIgBRC56"
      },
      "source": [
        "def ValidateModel(model,celcius_degree,fehranheit_degree):\n",
        "  predictions = model.predict(celcius_degree)\n",
        "  for idx in range(len(prediictions)):\n",
        "    print(f'{celcius_degree[idx]})] C degree -> Prediction Fahrenheit Value - Actual Fahrenheit Value: {Prediction[idx]} F - [{fehranheit_degree[idx]} F]')"
      ],
      "execution_count": 42,
      "outputs": []
    },
    {
      "cell_type": "code",
      "metadata": {
        "id": "2g94uH3FUILS"
      },
      "source": [
        "def PredictCelcius(model, celcius_degree):\n",
        "  return model.predict(np.array([celcius_degree]))\n"
      ],
      "execution_count": 43,
      "outputs": []
    },
    {
      "cell_type": "code",
      "metadata": {
        "id": "KIWls0k9UYCI"
      },
      "source": [
        "model = TrainValidateModel()"
      ],
      "execution_count": 44,
      "outputs": []
    },
    {
      "cell_type": "code",
      "metadata": {
        "colab": {
          "base_uri": "https://localhost:8080/"
        },
        "id": "_aMJ83JoVQFQ",
        "outputId": "9c8e1810-48d7-42d6-f6dd-113c34b071bf"
      },
      "source": [
        "Prediction_celcius = int(input('Please enter the C value you want to predict of its F'))\n",
        "print(PredictCelcius(model, Prediction_celcius))"
      ],
      "execution_count": 45,
      "outputs": [
        {
          "output_type": "stream",
          "name": "stdout",
          "text": [
            "Please enter the C value you want to predict of its F26\n",
            "[[75.942604]]\n"
          ]
        }
      ]
    },
    {
      "cell_type": "code",
      "metadata": {
        "colab": {
          "base_uri": "https://localhost:8080/"
        },
        "id": "LHdwK4g3Xet3",
        "outputId": "00daaefa-c80f-4a8a-8399-a06d47c9ceed"
      },
      "source": [
        "model.weights"
      ],
      "execution_count": 46,
      "outputs": [
        {
          "output_type": "execute_result",
          "data": {
            "text/plain": [
              "[<tf.Variable 'dense_6/kernel:0' shape=(1, 1) dtype=float32, numpy=array([[1.8288531]], dtype=float32)>,\n",
              " <tf.Variable 'dense_6/bias:0' shape=(1,) dtype=float32, numpy=array([28.392424], dtype=float32)>]"
            ]
          },
          "metadata": {},
          "execution_count": 46
        }
      ]
    }
  ]
}